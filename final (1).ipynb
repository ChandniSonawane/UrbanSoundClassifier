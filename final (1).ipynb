{
 "cells": [
  {
   "cell_type": "code",
   "execution_count": 1,
   "id": "349a7cbe-eb0f-4e08-bc8e-b997726ce156",
   "metadata": {},
   "outputs": [
    {
     "name": "stdout",
     "output_type": "stream",
     "text": [
      "Requirement already satisfied: tdqm in c:\\users\\sonaw\\anaconda3\\lib\\site-packages (0.0.1)\n",
      "Requirement already satisfied: tqdm in c:\\users\\sonaw\\anaconda3\\lib\\site-packages (from tdqm) (4.65.0)\n",
      "Requirement already satisfied: colorama in c:\\users\\sonaw\\anaconda3\\lib\\site-packages (from tqdm->tdqm) (0.4.6)\n",
      "Note: you may need to restart the kernel to use updated packages.\n"
     ]
    }
   ],
   "source": [
    "pip install tdqm"
   ]
  },
  {
   "cell_type": "code",
   "execution_count": 2,
   "id": "43cfc0a7",
   "metadata": {},
   "outputs": [
    {
     "name": "stdout",
     "output_type": "stream",
     "text": [
      "Requirement already satisfied: librosa in c:\\users\\sonaw\\anaconda3\\lib\\site-packages (0.10.1)Note: you may need to restart the kernel to use updated packages.\n",
      "\n",
      "Requirement already satisfied: audioread>=2.1.9 in c:\\users\\sonaw\\anaconda3\\lib\\site-packages (from librosa) (3.0.0)\n",
      "Requirement already satisfied: numpy!=1.22.0,!=1.22.1,!=1.22.2,>=1.20.3 in c:\\users\\sonaw\\anaconda3\\lib\\site-packages (from librosa) (1.24.3)\n",
      "Requirement already satisfied: scipy>=1.2.0 in c:\\users\\sonaw\\anaconda3\\lib\\site-packages (from librosa) (1.10.1)\n",
      "Requirement already satisfied: scikit-learn>=0.20.0 in c:\\users\\sonaw\\anaconda3\\lib\\site-packages (from librosa) (1.3.0)\n",
      "Requirement already satisfied: joblib>=0.14 in c:\\users\\sonaw\\anaconda3\\lib\\site-packages (from librosa) (1.1.1)\n",
      "Requirement already satisfied: decorator>=4.3.0 in c:\\users\\sonaw\\anaconda3\\lib\\site-packages (from librosa) (5.1.1)\n",
      "Requirement already satisfied: numba>=0.51.0 in c:\\users\\sonaw\\anaconda3\\lib\\site-packages (from librosa) (0.57.0)\n",
      "Requirement already satisfied: soundfile>=0.12.1 in c:\\users\\sonaw\\anaconda3\\lib\\site-packages (from librosa) (0.12.1)\n",
      "Requirement already satisfied: pooch>=1.0 in c:\\users\\sonaw\\anaconda3\\lib\\site-packages (from librosa) (1.4.0)\n",
      "Requirement already satisfied: soxr>=0.3.2 in c:\\users\\sonaw\\anaconda3\\lib\\site-packages (from librosa) (0.3.6)\n",
      "Requirement already satisfied: typing-extensions>=4.1.1 in c:\\users\\sonaw\\anaconda3\\lib\\site-packages (from librosa) (4.7.1)\n",
      "Requirement already satisfied: lazy-loader>=0.1 in c:\\users\\sonaw\\anaconda3\\lib\\site-packages (from librosa) (0.2)\n",
      "Requirement already satisfied: msgpack>=1.0 in c:\\users\\sonaw\\anaconda3\\lib\\site-packages (from librosa) (1.0.3)\n",
      "Requirement already satisfied: llvmlite<0.41,>=0.40.0dev0 in c:\\users\\sonaw\\anaconda3\\lib\\site-packages (from numba>=0.51.0->librosa) (0.40.0)\n",
      "Requirement already satisfied: requests in c:\\users\\sonaw\\anaconda3\\lib\\site-packages (from pooch>=1.0->librosa) (2.31.0)\n",
      "Requirement already satisfied: packaging in c:\\users\\sonaw\\anaconda3\\lib\\site-packages (from pooch>=1.0->librosa) (23.0)\n",
      "Requirement already satisfied: appdirs in c:\\users\\sonaw\\anaconda3\\lib\\site-packages (from pooch>=1.0->librosa) (1.4.4)\n",
      "Requirement already satisfied: threadpoolctl>=2.0.0 in c:\\users\\sonaw\\anaconda3\\lib\\site-packages (from scikit-learn>=0.20.0->librosa) (2.2.0)\n",
      "Requirement already satisfied: cffi>=1.0 in c:\\users\\sonaw\\anaconda3\\lib\\site-packages (from soundfile>=0.12.1->librosa) (1.15.1)\n",
      "Requirement already satisfied: pycparser in c:\\users\\sonaw\\anaconda3\\lib\\site-packages (from cffi>=1.0->soundfile>=0.12.1->librosa) (2.21)\n",
      "Requirement already satisfied: charset-normalizer<4,>=2 in c:\\users\\sonaw\\anaconda3\\lib\\site-packages (from requests->pooch>=1.0->librosa) (2.0.4)\n",
      "Requirement already satisfied: idna<4,>=2.5 in c:\\users\\sonaw\\anaconda3\\lib\\site-packages (from requests->pooch>=1.0->librosa) (3.4)\n",
      "Requirement already satisfied: urllib3<3,>=1.21.1 in c:\\users\\sonaw\\anaconda3\\lib\\site-packages (from requests->pooch>=1.0->librosa) (1.26.16)\n",
      "Requirement already satisfied: certifi>=2017.4.17 in c:\\users\\sonaw\\anaconda3\\lib\\site-packages (from requests->pooch>=1.0->librosa) (2023.7.22)\n"
     ]
    }
   ],
   "source": [
    "pip install librosa"
   ]
  },
  {
   "cell_type": "code",
   "execution_count": 3,
   "id": "bd5485ef",
   "metadata": {},
   "outputs": [
    {
     "name": "stdout",
     "output_type": "stream",
     "text": [
      "Requirement already satisfied: tensorflow in c:\\users\\sonaw\\anaconda3\\lib\\site-packages (2.13.0)\n",
      "Requirement already satisfied: tensorflow-intel==2.13.0 in c:\\users\\sonaw\\anaconda3\\lib\\site-packages (from tensorflow) (2.13.0)\n",
      "Requirement already satisfied: absl-py>=1.0.0 in c:\\users\\sonaw\\anaconda3\\lib\\site-packages (from tensorflow-intel==2.13.0->tensorflow) (1.4.0)\n",
      "Requirement already satisfied: astunparse>=1.6.0 in c:\\users\\sonaw\\anaconda3\\lib\\site-packages (from tensorflow-intel==2.13.0->tensorflow) (1.6.3)\n",
      "Requirement already satisfied: flatbuffers>=23.1.21 in c:\\users\\sonaw\\anaconda3\\lib\\site-packages (from tensorflow-intel==2.13.0->tensorflow) (23.5.26)\n",
      "Requirement already satisfied: gast<=0.4.0,>=0.2.1 in c:\\users\\sonaw\\anaconda3\\lib\\site-packages (from tensorflow-intel==2.13.0->tensorflow) (0.4.0)\n",
      "Requirement already satisfied: google-pasta>=0.1.1 in c:\\users\\sonaw\\anaconda3\\lib\\site-packages (from tensorflow-intel==2.13.0->tensorflow) (0.2.0)\n",
      "Requirement already satisfied: h5py>=2.9.0 in c:\\users\\sonaw\\anaconda3\\lib\\site-packages (from tensorflow-intel==2.13.0->tensorflow) (3.7.0)\n",
      "Requirement already satisfied: libclang>=13.0.0 in c:\\users\\sonaw\\anaconda3\\lib\\site-packages (from tensorflow-intel==2.13.0->tensorflow) (16.0.6)\n",
      "Requirement already satisfied: numpy<=1.24.3,>=1.22 in c:\\users\\sonaw\\anaconda3\\lib\\site-packages (from tensorflow-intel==2.13.0->tensorflow) (1.24.3)\n",
      "Requirement already satisfied: opt-einsum>=2.3.2 in c:\\users\\sonaw\\anaconda3\\lib\\site-packages (from tensorflow-intel==2.13.0->tensorflow) (3.3.0)\n",
      "Requirement already satisfied: packaging in c:\\users\\sonaw\\anaconda3\\lib\\site-packages (from tensorflow-intel==2.13.0->tensorflow) (23.0)\n",
      "Requirement already satisfied: protobuf!=4.21.0,!=4.21.1,!=4.21.2,!=4.21.3,!=4.21.4,!=4.21.5,<5.0.0dev,>=3.20.3 in c:\\users\\sonaw\\anaconda3\\lib\\site-packages (from tensorflow-intel==2.13.0->tensorflow) (4.24.2)\n",
      "Requirement already satisfied: setuptools in c:\\users\\sonaw\\anaconda3\\lib\\site-packages (from tensorflow-intel==2.13.0->tensorflow) (68.0.0)\n",
      "Requirement already satisfied: six>=1.12.0 in c:\\users\\sonaw\\anaconda3\\lib\\site-packages (from tensorflow-intel==2.13.0->tensorflow) (1.16.0)\n",
      "Requirement already satisfied: termcolor>=1.1.0 in c:\\users\\sonaw\\anaconda3\\lib\\site-packages (from tensorflow-intel==2.13.0->tensorflow) (2.3.0)\n",
      "Collecting typing-extensions<4.6.0,>=3.6.6 (from tensorflow-intel==2.13.0->tensorflow)\n",
      "  Using cached typing_extensions-4.5.0-py3-none-any.whl (27 kB)\n",
      "Requirement already satisfied: wrapt>=1.11.0 in c:\\users\\sonaw\\anaconda3\\lib\\site-packages (from tensorflow-intel==2.13.0->tensorflow) (1.14.1)\n",
      "Requirement already satisfied: grpcio<2.0,>=1.24.3 in c:\\users\\sonaw\\anaconda3\\lib\\site-packages (from tensorflow-intel==2.13.0->tensorflow) (1.57.0)\n",
      "Requirement already satisfied: tensorboard<2.14,>=2.13 in c:\\users\\sonaw\\anaconda3\\lib\\site-packages (from tensorflow-intel==2.13.0->tensorflow) (2.13.0)\n",
      "Requirement already satisfied: tensorflow-estimator<2.14,>=2.13.0 in c:\\users\\sonaw\\anaconda3\\lib\\site-packages (from tensorflow-intel==2.13.0->tensorflow) (2.13.0)\n",
      "Requirement already satisfied: keras<2.14,>=2.13.1 in c:\\users\\sonaw\\anaconda3\\lib\\site-packages (from tensorflow-intel==2.13.0->tensorflow) (2.13.1)\n",
      "Requirement already satisfied: tensorflow-io-gcs-filesystem>=0.23.1 in c:\\users\\sonaw\\anaconda3\\lib\\site-packages (from tensorflow-intel==2.13.0->tensorflow) (0.31.0)\n",
      "Requirement already satisfied: wheel<1.0,>=0.23.0 in c:\\users\\sonaw\\anaconda3\\lib\\site-packages (from astunparse>=1.6.0->tensorflow-intel==2.13.0->tensorflow) (0.38.4)\n",
      "Requirement already satisfied: google-auth<3,>=1.6.3 in c:\\users\\sonaw\\anaconda3\\lib\\site-packages (from tensorboard<2.14,>=2.13->tensorflow-intel==2.13.0->tensorflow) (2.22.0)\n",
      "Requirement already satisfied: google-auth-oauthlib<1.1,>=0.5 in c:\\users\\sonaw\\anaconda3\\lib\\site-packages (from tensorboard<2.14,>=2.13->tensorflow-intel==2.13.0->tensorflow) (1.0.0)\n",
      "Requirement already satisfied: markdown>=2.6.8 in c:\\users\\sonaw\\anaconda3\\lib\\site-packages (from tensorboard<2.14,>=2.13->tensorflow-intel==2.13.0->tensorflow) (3.4.1)\n",
      "Requirement already satisfied: requests<3,>=2.21.0 in c:\\users\\sonaw\\anaconda3\\lib\\site-packages (from tensorboard<2.14,>=2.13->tensorflow-intel==2.13.0->tensorflow) (2.31.0)\n",
      "Requirement already satisfied: tensorboard-data-server<0.8.0,>=0.7.0 in c:\\users\\sonaw\\anaconda3\\lib\\site-packages (from tensorboard<2.14,>=2.13->tensorflow-intel==2.13.0->tensorflow) (0.7.1)\n",
      "Requirement already satisfied: werkzeug>=1.0.1 in c:\\users\\sonaw\\anaconda3\\lib\\site-packages (from tensorboard<2.14,>=2.13->tensorflow-intel==2.13.0->tensorflow) (2.2.3)\n",
      "Requirement already satisfied: cachetools<6.0,>=2.0.0 in c:\\users\\sonaw\\anaconda3\\lib\\site-packages (from google-auth<3,>=1.6.3->tensorboard<2.14,>=2.13->tensorflow-intel==2.13.0->tensorflow) (5.3.1)\n",
      "Requirement already satisfied: pyasn1-modules>=0.2.1 in c:\\users\\sonaw\\anaconda3\\lib\\site-packages (from google-auth<3,>=1.6.3->tensorboard<2.14,>=2.13->tensorflow-intel==2.13.0->tensorflow) (0.2.8)\n",
      "Requirement already satisfied: rsa<5,>=3.1.4 in c:\\users\\sonaw\\anaconda3\\lib\\site-packages (from google-auth<3,>=1.6.3->tensorboard<2.14,>=2.13->tensorflow-intel==2.13.0->tensorflow) (4.9)\n",
      "Requirement already satisfied: urllib3<2.0 in c:\\users\\sonaw\\anaconda3\\lib\\site-packages (from google-auth<3,>=1.6.3->tensorboard<2.14,>=2.13->tensorflow-intel==2.13.0->tensorflow) (1.26.16)\n",
      "Requirement already satisfied: requests-oauthlib>=0.7.0 in c:\\users\\sonaw\\anaconda3\\lib\\site-packages (from google-auth-oauthlib<1.1,>=0.5->tensorboard<2.14,>=2.13->tensorflow-intel==2.13.0->tensorflow) (1.3.1)\n",
      "Requirement already satisfied: charset-normalizer<4,>=2 in c:\\users\\sonaw\\anaconda3\\lib\\site-packages (from requests<3,>=2.21.0->tensorboard<2.14,>=2.13->tensorflow-intel==2.13.0->tensorflow) (2.0.4)\n",
      "Requirement already satisfied: idna<4,>=2.5 in c:\\users\\sonaw\\anaconda3\\lib\\site-packages (from requests<3,>=2.21.0->tensorboard<2.14,>=2.13->tensorflow-intel==2.13.0->tensorflow) (3.4)\n",
      "Requirement already satisfied: certifi>=2017.4.17 in c:\\users\\sonaw\\anaconda3\\lib\\site-packages (from requests<3,>=2.21.0->tensorboard<2.14,>=2.13->tensorflow-intel==2.13.0->tensorflow) (2023.7.22)\n",
      "Requirement already satisfied: MarkupSafe>=2.1.1 in c:\\users\\sonaw\\anaconda3\\lib\\site-packages (from werkzeug>=1.0.1->tensorboard<2.14,>=2.13->tensorflow-intel==2.13.0->tensorflow) (2.1.1)\n",
      "Requirement already satisfied: pyasn1<0.5.0,>=0.4.6 in c:\\users\\sonaw\\anaconda3\\lib\\site-packages (from pyasn1-modules>=0.2.1->google-auth<3,>=1.6.3->tensorboard<2.14,>=2.13->tensorflow-intel==2.13.0->tensorflow) (0.4.8)\n",
      "Requirement already satisfied: oauthlib>=3.0.0 in c:\\users\\sonaw\\anaconda3\\lib\\site-packages (from requests-oauthlib>=0.7.0->google-auth-oauthlib<1.1,>=0.5->tensorboard<2.14,>=2.13->tensorflow-intel==2.13.0->tensorflow) (3.2.2)\n",
      "Installing collected packages: typing-extensions\n",
      "  Attempting uninstall: typing-extensions\n",
      "    Found existing installation: typing_extensions 4.7.1\n",
      "    Uninstalling typing_extensions-4.7.1:\n",
      "      Successfully uninstalled typing_extensions-4.7.1\n",
      "Successfully installed typing-extensions-4.5.0\n",
      "Note: you may need to restart the kernel to use updated packages.\n"
     ]
    },
    {
     "name": "stderr",
     "output_type": "stream",
     "text": [
      "ERROR: pip's dependency resolver does not currently take into account all the packages that are installed. This behaviour is the source of the following dependency conflicts.\n",
      "pydantic 2.3.0 requires typing-extensions>=4.6.1, but you have typing-extensions 4.5.0 which is incompatible.\n",
      "pydantic-core 2.6.3 requires typing-extensions!=4.7.0,>=4.6.0, but you have typing-extensions 4.5.0 which is incompatible.\n"
     ]
    }
   ],
   "source": [
    "pip install tensorflow"
   ]
  },
  {
   "cell_type": "code",
   "execution_count": 4,
   "id": "bfbb233f-0d88-4e25-8ce0-2f8ba6d9157e",
   "metadata": {},
   "outputs": [],
   "source": [
    "# Basic Libraries\n",
    "import pandas as pd\n",
    "import numpy as np\n",
    "import matplotlib.pyplot as plt\n",
    "pd.plotting.register_matplotlib_converters()\n",
    "%matplotlib inline\n",
    "import seaborn as sns\n",
    "\n",
    "# Specific Libraries\n",
    "import os\n",
    "import librosa\n",
    "import librosa.display\n",
    "\n",
    "from sklearn.model_selection import train_test_split\n",
    "from sklearn.metrics import classification_report\n",
    "from sklearn.model_selection import GridSearchCV\n",
    "from sklearn.preprocessing import MinMaxScaler\n",
    "from sklearn.model_selection import train_test_split \n",
    "from sklearn.preprocessing import LabelEncoder\n",
    "\n",
    "from tqdm import tqdm, trange\n",
    "from tqdm.auto import tqdm\n",
    "\n",
    "import tensorflow as tf\n",
    "from tensorflow.keras.utils import to_categorical\n",
    "from tensorflow.keras.models import Sequential\n",
    "from tensorflow.keras.layers import Dense , Activation , Dropout\n",
    "\n",
    "import IPython.display as ipd"
   ]
  },
  {
   "cell_type": "code",
   "execution_count": null,
   "id": "5cecb964-5218-4ead-a9e6-9284fd92d2ca",
   "metadata": {},
   "outputs": [],
   "source": [
    "pip install tdqm"
   ]
  },
  {
   "cell_type": "code",
   "execution_count": null,
   "id": "9cb7c14a-3bb5-4e6b-95b1-2e5259d4d46b",
   "metadata": {},
   "outputs": [],
   "source": [
    "df = pd.read_csv(\"UrbanSound8K.csv\")\n",
    "df.head()"
   ]
  },
  {
   "cell_type": "code",
   "execution_count": null,
   "id": "7775d2a9-4baa-47aa-a4cd-6163116f7181",
   "metadata": {},
   "outputs": [],
   "source": [
    "dat1, sampling_rate1 = librosa.load('C:\\\\Users\\\\sonaw\\\\Documents\\\\study purpose\\\\mini project 2\\\\urbanexdata\\\\fold5\\\\65381-3-0-7.wav')\n"
   ]
  },
  {
   "cell_type": "code",
   "execution_count": null,
   "id": "c694baa6",
   "metadata": {},
   "outputs": [],
   "source": [
    "dat2, sampling_rate2 = librosa.load('C:\\\\Users\\\\sonaw\\\\Documents\\\\study purpose\\\\mini project 2\\\\urbanexdata\\\\fold5\\\\6508-9-0-1.wav')\n"
   ]
  },
  {
   "cell_type": "code",
   "execution_count": null,
   "id": "09d47817-300c-4239-bb55-6d9295047bc9",
   "metadata": {},
   "outputs": [],
   "source": [
    "plt.figure(figsize=(20, 20))\n",
    "D = librosa.amplitude_to_db(np.abs(librosa.stft(dat1)), ref=np.max)\n",
    "plt.subplot(4, 2, 1)\n",
    "librosa.display.specshow(D, y_axis='linear')\n",
    "plt.colorbar(format='%+2.0f dB')\n",
    "plt.title('Linear-frequency power spectrogram')"
   ]
  },
  {
   "cell_type": "code",
   "execution_count": null,
   "id": "77df7c02-792d-46c3-bdf4-9aec49aba1b6",
   "metadata": {},
   "outputs": [],
   "source": [
    "dat2"
   ]
  },
  {
   "cell_type": "code",
   "execution_count": null,
   "id": "9b5482ac-ced2-4e32-931a-6c353ddef7c5",
   "metadata": {},
   "outputs": [],
   "source": [
    "dat1"
   ]
  },
  {
   "cell_type": "code",
   "execution_count": null,
   "id": "882e2575-45a0-4d26-8921-afad54656ce4",
   "metadata": {},
   "outputs": [],
   "source": [
    "plt.figure(figsize=(20, 20))\n",
    "D = librosa.amplitude_to_db(np.abs(librosa.stft(dat2)), ref=np.max)\n",
    "plt.subplot(4, 2, 1)\n",
    "librosa.display.specshow(D, y_axis='linear')\n",
    "plt.colorbar(format='%+2.0f dB')\n",
    "plt.title('Linear-frequency power spectrogram')"
   ]
  },
  {
   "cell_type": "code",
   "execution_count": null,
   "id": "957b41d9",
   "metadata": {},
   "outputs": [],
   "source": [
    "pip install resampy\n"
   ]
  },
  {
   "cell_type": "code",
   "execution_count": null,
   "id": "a3c073ad-c26e-4f8e-b2b5-340976a4033d",
   "metadata": {},
   "outputs": [],
   "source": [
    "def features_extract(file):\n",
    "    sample,sample_rate = librosa.load(file_name,res_type='kaiser_fast')\n",
    "    feature = librosa.feature.mfcc(y=sample,sr=sample_rate,n_mfcc=50)\n",
    "    scaled_feature = np.mean(feature.T,axis=0)\n",
    "    return scaled_feature\n",
    "\n",
    "extracted = []\n",
    "path = \"C:\\\\Users\\\\sonaw\\\\Downloads\\\\UrbanEc\"\n",
    "\n",
    "for index_num,row in tqdm(df.iterrows()):\n",
    "    file_name = os.path.join(os.path.abspath(path),'fold'+str(row[\"fold\"])+'/',str(row['slice_file_name'])) \n",
    "    final_class_labels = row['class']   \n",
    "    data= features_extract(file_name)    \n",
    "    extracted.append([data,final_class_labels])"
   ]
  },
  {
   "cell_type": "code",
   "execution_count": null,
   "id": "3c1288d6-ac07-42b6-8f51-7f3de894cb38",
   "metadata": {},
   "outputs": [],
   "source": [
    "ext_df = pd.DataFrame(extracted,columns=['feature','class'])\n",
    "ext_df"
   ]
  },
  {
   "cell_type": "code",
   "execution_count": null,
   "id": "02c68f89-8e11-4755-8e7f-067cad84c470",
   "metadata": {},
   "outputs": [],
   "source": [
    "ext_df.to_csv('extracteddf.csv', index=False)"
   ]
  },
  {
   "cell_type": "code",
   "execution_count": null,
   "id": "e335ee6c-6aa5-4673-bb71-9a8095ae4aba",
   "metadata": {},
   "outputs": [],
   "source": [
    "x = np.array(ext_df['feature'].tolist())\n",
    "y = np.array(ext_df['class'].tolist())"
   ]
  },
  {
   "cell_type": "code",
   "execution_count": null,
   "id": "d4a83f05-f040-48a7-8dab-3710d3453675",
   "metadata": {},
   "outputs": [],
   "source": [
    "le = LabelEncoder()\n",
    "\n",
    "y = to_categorical(le.fit_transform(y))"
   ]
  },
  {
   "cell_type": "code",
   "execution_count": null,
   "id": "d95f533c-82cf-42ba-ad90-f2b234a9c3bc",
   "metadata": {},
   "outputs": [],
   "source": [
    "x_train, x_test, y_train, y_test = train_test_split(x, y, test_size=0.2, random_state = 42)\n",
    "\n",
    "print(\"Number of training samples = \", x_train.shape[0])\n",
    "print(\"Number of testing samples = \",x_test.shape[0])"
   ]
  },
  {
   "cell_type": "code",
   "execution_count": null,
   "id": "b489f973-1323-4de0-b173-662a64196ff6",
   "metadata": {},
   "outputs": [],
   "source": [
    "num_labels = 10  # Replace with the actual number of labels in your dataset\n",
    "\n",
    "model1 = Sequential()\n",
    "#num_labels = y.shape[1]\n",
    "model1 = Sequential()\n",
    "\n",
    "model1.add(Dense(128, input_shape=(50,)))\n",
    "model1.add(Activation('relu'))\n",
    "model1.add(Dropout(0.5))\n",
    "\n",
    "model1.add(Dense(256))\n",
    "model1.add(Activation('relu'))\n",
    "model1.add(Dropout(0.5))\n",
    "model1.add(Dense(256))\n",
    "model1.add(Activation('relu'))\n",
    "model1.add(Dropout(0.5))\n",
    "model1.add(Dense(128))\n",
    "\n",
    "model1.add(Dense(num_labels))\n",
    "model1.add(Activation('softmax'))\n",
    "\n",
    "model1.summary()"
   ]
  },
  {
   "cell_type": "code",
   "execution_count": null,
   "id": "fd8c50d1-4758-488c-8965-db8b731cab2a",
   "metadata": {},
   "outputs": [],
   "source": [
    "model1.compile(optimizer=tf.keras.optimizers.Adam(),\n",
    "              loss=tf.keras.losses.CategoricalCrossentropy(),\n",
    "              metrics=['accuracy'])"
   ]
  },
  {
   "cell_type": "code",
   "execution_count": null,
   "id": "9df7dc63-122a-4b3f-8a90-7508ea9e4310",
   "metadata": {
    "scrolled": true
   },
   "outputs": [],
   "source": [
    "from tensorflow.keras.callbacks import ModelCheckpoint\n",
    "checkpointer = ModelCheckpoint(filepath=\"C:\\\\Users\\\\sonaw\\\\model1.hdf5\",\n",
    "                               verbose=1, save_best_only=True)\n",
    "model1.fit(\n",
    "          x_train, \n",
    "          y_train, \n",
    "          batch_size=50, \n",
    "          epochs=200,\n",
    "          validation_data=(x_test, y_test),callbacks=[checkpointer]\n",
    "         )"
   ]
  },
  {
   "cell_type": "code",
   "execution_count": null,
   "id": "721deed5-cf2b-4589-a497-81e74d46cfdb",
   "metadata": {},
   "outputs": [],
   "source": [
    "def extract_feature(file_name):\n",
    "    audio_data, sample_rate = librosa.load(file_name, res_type='kaiser_fast') \n",
    "    fea = librosa.feature.mfcc(y=audio_data, sr=sample_rate, n_mfcc=50)\n",
    "    scaled = np.mean(fea.T,axis=0)\n",
    "    return np.array([scaled])"
   ]
  },
  {
   "cell_type": "code",
   "execution_count": null,
   "id": "31e8747c-16f1-4296-aef0-15ed475126e7",
   "metadata": {},
   "outputs": [],
   "source": []
  },
  {
   "cell_type": "code",
   "execution_count": null,
   "id": "79a75e64-53c9-40fa-88d3-0e67c8e0c9e6",
   "metadata": {},
   "outputs": [],
   "source": [
    "def predict(file_name):\n",
    "    pred_fea = extract_feature(file_name) \n",
    "    pred_vector = np.argmax(model.predict(pred_fea), axis=-1)\n",
    "    pred_class = le.inverse_transform(pred_vector)\n",
    "    return pred_class[0]"
   ]
  },
  {
   "cell_type": "code",
   "execution_count": null,
   "id": "7c459bb6-a597-475f-bc52-019b7ce75116",
   "metadata": {},
   "outputs": [],
   "source": [
    "df"
   ]
  },
  {
   "cell_type": "code",
   "execution_count": null,
   "id": "9557d213-aca3-455e-95dc-b02482694ae4",
   "metadata": {},
   "outputs": [],
   "source": [
    "test_accuracy=model1.evaluate(x_test,y_test,verbose=0)\n",
    "print(test_accuracy[1])"
   ]
  },
  {
   "cell_type": "code",
   "execution_count": null,
   "id": "b007718a-e2b3-4cf8-bd9c-5d1d99284045",
   "metadata": {},
   "outputs": [],
   "source": [
    "predict(\"C:\\\\Users\\\\sonaw\\\\Downloads\\\\UrbanEc\\\\fold5\\\\6508-9-0-1.wav\")\n",
    "ipd.Audio(\"C:\\\\Users\\\\sonaw\\\\Downloads\\\\UrbanEc\\\\fold5\\\\6508-9-0-1.wav\")"
   ]
  },
  {
   "cell_type": "code",
   "execution_count": null,
   "id": "7657ba80-5809-4119-8933-88cb9ecbc572",
   "metadata": {},
   "outputs": [],
   "source": [
    "df['class'].unique()"
   ]
  },
  {
   "cell_type": "code",
   "execution_count": null,
   "id": "a9bdc852-6f70-4e2f-86f3-c58e8c7e8db6",
   "metadata": {},
   "outputs": [],
   "source": [
    "file1=\"C:\\\\Users\\\\sonaw\\\\Downloads\\\\UrbanEc\\\\fold5\\\\6508-9-0-1.wav\"\n",
    "predict(file2)\n",
    "ipd.Audio(file2)"
   ]
  },
  {
   "cell_type": "code",
   "execution_count": null,
   "id": "f3c66100-9a79-4834-921e-60001f5de737",
   "metadata": {},
   "outputs": [],
   "source": [
    "pip install sounddevice"
   ]
  },
  {
   "cell_type": "code",
   "execution_count": null,
   "id": "832cec41",
   "metadata": {},
   "outputs": [],
   "source": [
    "import sounddevice as sd\n",
    "\n",
    "# Define the duration of the recording in seconds\n",
    "duration = 5  # Adjust as needed\n",
    "\n",
    "# Sample rate (number of samples per second)\n",
    "sample_rate = 22050  # Adjust as needed\n",
    "\n",
    "# Record sound\n",
    "print(\"Recording started. Speak into the microphone...\")\n",
    "recording = sd.rec(int(duration * sample_rate), samplerate=sample_rate, channels=1)\n",
    "print(recording)\n",
    "# Wait for the recording to complete\n",
    "sd.wait()\n",
    "\n",
    "# Access the recorded sound data\n",
    "sound_data = recording.flatten()   \n",
    "\n",
    "\n",
    "# Example: Print the length of the sound data\n",
    "print(\"Sound data length:\", len(sound_data))\n",
    "\n",
    "# Call the predict function\n",
    "prediction = predict(sound_data)\n",
    "print(\"Prediction:\", prediction)\n",
    "extract_feature(sound_data)"
   ]
  },
  {
   "cell_type": "code",
   "execution_count": null,
   "id": "fde405eb-545f-47d6-ac91-2c0fdc39d837",
   "metadata": {},
   "outputs": [],
   "source": [
    "predict(sound_data)\n",
    "ipd.Audio(sound_data)"
   ]
  },
  {
   "cell_type": "code",
   "execution_count": null,
   "id": "17997f36-f6ad-40df-aeb3-6a19e1414c0d",
   "metadata": {},
   "outputs": [],
   "source": [
    "sampling_rate1"
   ]
  },
  {
   "cell_type": "code",
   "execution_count": null,
   "id": "3362b18b-d2d5-4728-90d1-fed4758f5a74",
   "metadata": {},
   "outputs": [],
   "source": []
  },
  {
   "cell_type": "code",
   "execution_count": null,
   "id": "22582586-3993-4af7-8071-32f347823d8d",
   "metadata": {},
   "outputs": [],
   "source": []
  },
  {
   "cell_type": "code",
   "execution_count": null,
   "id": "4dea9666",
   "metadata": {},
   "outputs": [],
   "source": [
    "pip install typing-extensions==3.10.0.2\n"
   ]
  },
  {
   "cell_type": "code",
   "execution_count": null,
   "id": "f276a530",
   "metadata": {},
   "outputs": [],
   "source": [
    "pip install --upgrade tensorflow-intel\n"
   ]
  },
  {
   "cell_type": "code",
   "execution_count": null,
   "id": "37ce4965",
   "metadata": {},
   "outputs": [],
   "source": []
  },
  {
   "cell_type": "code",
   "execution_count": null,
   "id": "06284d7f-dc59-499a-8b0b-6befebad10ac",
   "metadata": {},
   "outputs": [],
   "source": [
    "pip install gradio"
   ]
  },
  {
   "cell_type": "code",
   "execution_count": null,
   "id": "8d742a8b-87ee-47a8-8698-96de81b1f0cd",
   "metadata": {
    "scrolled": true
   },
   "outputs": [],
   "source": [
    "import gradio as gr\n",
    "\n",
    "# Define your Gradio interface and functions here\n",
    "\n",
    "if __name__ == \"__main__\":\n",
    "    gr.Interface(...).launch()\n"
   ]
  },
  {
   "cell_type": "code",
   "execution_count": null,
   "id": "d13a7fa1-a9aa-4402-9130-59fa11a21947",
   "metadata": {},
   "outputs": [],
   "source": [
    "inp = gr.inputs.Audio(type='filepath',label = 'Audio File')\n",
    "demo = gr.Interface(fn =predict,inputs = inp , outputs =\"text\")\n",
    "demo.launch(share = True,debug = True)\n",
    "demo"
   ]
  },
  {
   "cell_type": "code",
   "execution_count": null,
   "id": "9d86b3c9-1a53-4e4f-ad16-5797ca0acec3",
   "metadata": {},
   "outputs": [],
   "source": []
  },
  {
   "cell_type": "code",
   "execution_count": null,
   "id": "bf737121-2baf-4551-a65f-dd94b2a6487c",
   "metadata": {},
   "outputs": [],
   "source": []
  },
  {
   "cell_type": "code",
   "execution_count": null,
   "id": "203a294c-d99b-419e-9c48-f6c82d9ff166",
   "metadata": {},
   "outputs": [],
   "source": []
  },
  {
   "cell_type": "code",
   "execution_count": null,
   "id": "4cc110de-e232-42fa-bc66-ef1ff2e543a2",
   "metadata": {},
   "outputs": [],
   "source": []
  },
  {
   "cell_type": "code",
   "execution_count": null,
   "id": "bffef54d-2bf1-4b81-9859-0a67ddb8472c",
   "metadata": {},
   "outputs": [],
   "source": []
  },
  {
   "cell_type": "code",
   "execution_count": null,
   "id": "fea137f3",
   "metadata": {},
   "outputs": [],
   "source": []
  },
  {
   "cell_type": "code",
   "execution_count": null,
   "id": "0aaaf919",
   "metadata": {},
   "outputs": [],
   "source": []
  },
  {
   "cell_type": "code",
   "execution_count": null,
   "id": "4172f033",
   "metadata": {},
   "outputs": [],
   "source": []
  },
  {
   "cell_type": "code",
   "execution_count": null,
   "id": "ae6c8a23",
   "metadata": {},
   "outputs": [],
   "source": []
  },
  {
   "cell_type": "code",
   "execution_count": null,
   "id": "71825123",
   "metadata": {},
   "outputs": [],
   "source": []
  },
  {
   "cell_type": "code",
   "execution_count": null,
   "id": "7d6f7335",
   "metadata": {},
   "outputs": [],
   "source": []
  },
  {
   "cell_type": "code",
   "execution_count": null,
   "id": "c87b7a26",
   "metadata": {},
   "outputs": [],
   "source": []
  },
  {
   "cell_type": "code",
   "execution_count": null,
   "id": "c700e8ee",
   "metadata": {},
   "outputs": [],
   "source": []
  },
  {
   "cell_type": "code",
   "execution_count": null,
   "id": "88240a84",
   "metadata": {},
   "outputs": [],
   "source": []
  },
  {
   "cell_type": "code",
   "execution_count": null,
   "id": "0bc94e2f",
   "metadata": {},
   "outputs": [],
   "source": []
  },
  {
   "cell_type": "code",
   "execution_count": null,
   "id": "c9f4bb7b",
   "metadata": {},
   "outputs": [],
   "source": [
    "\n"
   ]
  }
 ],
 "metadata": {
  "kernelspec": {
   "display_name": "Python 3 (ipykernel)",
   "language": "python",
   "name": "python3"
  },
  "language_info": {
   "codemirror_mode": {
    "name": "ipython",
    "version": 3
   },
   "file_extension": ".py",
   "mimetype": "text/x-python",
   "name": "python",
   "nbconvert_exporter": "python",
   "pygments_lexer": "ipython3",
   "version": "3.11.4"
  }
 },
 "nbformat": 4,
 "nbformat_minor": 5
}
